{
 "cells": [
  {
   "cell_type": "code",
   "execution_count": 1,
   "metadata": {},
   "outputs": [
    {
     "data": {
      "text/plain": [
       "\"\\n\\nWe are predicting whether a given transaction is considered fraud or not, as indicated by the isFraud column\\nin train_transaction.\\n\\nNot all transactions have corresponding identity information.\\n\\n\\nGeneral information about the meaning of the data features from the competition discussion:\\n\\nTransaction Table *\\nTransactionDT: timedelta from a given reference datetime (not an actual timestamp)\\nTransactionAMT: transaction payment amount in USD\\nProductCD: product code, the product for each transaction\\ncard1 - card6: payment card information, such as card type, card category, issue bank, country, etc.\\naddr: address\\ndist: distance\\nP_ and (R__) emaildomain: purchaser and recipient email domain\\nC1-C14: counting, such as how many addresses are found to be associated with the payment card, etc. The actual meaning is masked.\\nD1-D15: timedelta, such as days between previous transaction, etc.\\nM1-M9: match, such as names on card and address, etc.\\nVxxx: Vesta engineered rich features, including ranking, counting, and other entity relations.\\nCategorical Features:\\nProductCD\\ncard1 - card6\\naddr1, addr2\\nP_emaildomain\\nR_emaildomain\\nM1 - M9\\n\\nIdentity Table *\\nVariables in this table are identity information – network connection information (IP, ISP, Proxy, etc) and digital signature (UA/browser/os/version, etc) associated with transactions.\\nThey're collected by Vesta’s fraud protection system and digital security partners.\\n(The field names are masked and pairwise dictionary will not be provided for privacy protection and contract agreement)\\n\\nCategorical Features:\\nDeviceType\\nDeviceInfo\\nid_12 - id_38\\n\\n\""
      ]
     },
     "execution_count": 1,
     "metadata": {},
     "output_type": "execute_result"
    }
   ],
   "source": [
    "# CAP 5610 Project\n",
    "# Dataset Link: https://www.kaggle.com/c/ieee-fraud-detection\n",
    "# Feature Engineering: https://www.kaggle.com/c/ieee-fraud-detection/discussion/108575\n",
    "# https://www.kaggle.com/kenjee/titanic-project-example \n",
    "# evaluation metrics: https://towardsdatascience.com/metrics-to-evaluate-your-machine-learning-algorithm-f10ba6e38234\n",
    "\n",
    "import numpy as np\n",
    "import pandas as pd\n",
    "import math\n",
    "import matplotlib.pyplot as plt\n",
    "import os\n",
    "\n",
    "train_identity = pd.read_csv(os.getcwd() + \"\\\\train_identity.csv\")\n",
    "train_transaction = pd.read_csv(os.getcwd() + \"\\\\train_transaction.csv\")\n",
    "\n",
    "# print(train_identity.head())\n",
    "# print(train_transaction.head())\n",
    "\n",
    "'''\n",
    "\n",
    "We are predicting whether a given transaction is considered fraud or not, as indicated by the isFraud column\n",
    "in train_transaction.\n",
    "\n",
    "Not all transactions have corresponding identity information.\n",
    "\n",
    "\n",
    "General information about the meaning of the data features from the competition discussion:\n",
    "\n",
    "Transaction Table *\n",
    "TransactionDT: timedelta from a given reference datetime (not an actual timestamp)\n",
    "TransactionAMT: transaction payment amount in USD\n",
    "ProductCD: product code, the product for each transaction\n",
    "card1 - card6: payment card information, such as card type, card category, issue bank, country, etc.\n",
    "addr: address\n",
    "dist: distance\n",
    "P_ and (R__) emaildomain: purchaser and recipient email domain\n",
    "C1-C14: counting, such as how many addresses are found to be associated with the payment card, etc. The actual meaning is masked.\n",
    "D1-D15: timedelta, such as days between previous transaction, etc.\n",
    "M1-M9: match, such as names on card and address, etc.\n",
    "Vxxx: Vesta engineered rich features, including ranking, counting, and other entity relations.\n",
    "Categorical Features:\n",
    "ProductCD\n",
    "card1 - card6\n",
    "addr1, addr2\n",
    "P_emaildomain\n",
    "R_emaildomain\n",
    "M1 - M9\n",
    "\n",
    "Identity Table *\n",
    "Variables in this table are identity information – network connection information (IP, ISP, Proxy, etc) and digital signature (UA/browser/os/version, etc) associated with transactions.\n",
    "They're collected by Vesta’s fraud protection system and digital security partners.\n",
    "(The field names are masked and pairwise dictionary will not be provided for privacy protection and contract agreement)\n",
    "\n",
    "Categorical Features:\n",
    "DeviceType\n",
    "DeviceInfo\n",
    "id_12 - id_38\n",
    "\n",
    "'''\n"
   ]
  },
  {
   "cell_type": "code",
   "execution_count": 2,
   "metadata": {},
   "outputs": [
    {
     "name": "stdout",
     "output_type": "stream",
     "text": [
      "<class 'pandas.core.frame.DataFrame'>\n",
      "RangeIndex: 144233 entries, 0 to 144232\n",
      "Data columns (total 41 columns):\n",
      " #   Column         Non-Null Count   Dtype  \n",
      "---  ------         --------------   -----  \n",
      " 0   TransactionID  144233 non-null  int64  \n",
      " 1   id_01          144233 non-null  float64\n",
      " 2   id_02          140872 non-null  float64\n",
      " 3   id_03          66324 non-null   float64\n",
      " 4   id_04          66324 non-null   float64\n",
      " 5   id_05          136865 non-null  float64\n",
      " 6   id_06          136865 non-null  float64\n",
      " 7   id_07          5155 non-null    float64\n",
      " 8   id_08          5155 non-null    float64\n",
      " 9   id_09          74926 non-null   float64\n",
      " 10  id_10          74926 non-null   float64\n",
      " 11  id_11          140978 non-null  float64\n",
      " 12  id_12          144233 non-null  object \n",
      " 13  id_13          127320 non-null  float64\n",
      " 14  id_14          80044 non-null   float64\n",
      " 15  id_15          140985 non-null  object \n",
      " 16  id_16          129340 non-null  object \n",
      " 17  id_17          139369 non-null  float64\n",
      " 18  id_18          45113 non-null   float64\n",
      " 19  id_19          139318 non-null  float64\n",
      " 20  id_20          139261 non-null  float64\n",
      " 21  id_21          5159 non-null    float64\n",
      " 22  id_22          5169 non-null    float64\n",
      " 23  id_23          5169 non-null    object \n",
      " 24  id_24          4747 non-null    float64\n",
      " 25  id_25          5132 non-null    float64\n",
      " 26  id_26          5163 non-null    float64\n",
      " 27  id_27          5169 non-null    object \n",
      " 28  id_28          140978 non-null  object \n",
      " 29  id_29          140978 non-null  object \n",
      " 30  id_30          77565 non-null   object \n",
      " 31  id_31          140282 non-null  object \n",
      " 32  id_32          77586 non-null   float64\n",
      " 33  id_33          73289 non-null   object \n",
      " 34  id_34          77805 non-null   object \n",
      " 35  id_35          140985 non-null  object \n",
      " 36  id_36          140985 non-null  object \n",
      " 37  id_37          140985 non-null  object \n",
      " 38  id_38          140985 non-null  object \n",
      " 39  DeviceType     140810 non-null  object \n",
      " 40  DeviceInfo     118666 non-null  object \n",
      "dtypes: float64(23), int64(1), object(17)\n",
      "memory usage: 45.1+ MB\n"
     ]
    },
    {
     "data": {
      "text/plain": [
       "'\\n\\nAll columns in train_identity seem like categorical data. More specifically, they are nominal. However, the description \\nprovided of the features in train_identity states that DeviceType, DeviceInfo, and id_12 - id_38 are the only features \\nthat are categorical. Will inspect id_01-id_11 to confirm their type.\\n\\n'"
      ]
     },
     "execution_count": 2,
     "metadata": {},
     "output_type": "execute_result"
    }
   ],
   "source": [
    "train_identity.info()\n",
    "\n",
    "'''\n",
    "\n",
    "All columns in train_identity seem like categorical data. More specifically, they are nominal. However, the description \n",
    "provided of the features in train_identity states that DeviceType, DeviceInfo, and id_12 - id_38 are the only features \n",
    "that are categorical. Will inspect id_01-id_11 to confirm their type.\n",
    "\n",
    "'''"
   ]
  },
  {
   "cell_type": "code",
   "execution_count": 3,
   "metadata": {},
   "outputs": [
    {
     "name": "stdout",
     "output_type": "stream",
     "text": [
      "<class 'pandas.core.frame.DataFrame'>\n",
      "RangeIndex: 590540 entries, 0 to 590539\n",
      "Columns: 394 entries, TransactionID to V339\n",
      "dtypes: float64(376), int64(4), object(14)\n",
      "memory usage: 1.7+ GB\n"
     ]
    },
    {
     "data": {
      "text/plain": [
       "'\\n\\ntrain_transaction contains a mix of categorical and numeric data. \\n\\n'"
      ]
     },
     "execution_count": 3,
     "metadata": {},
     "output_type": "execute_result"
    }
   ],
   "source": [
    "train_transaction.info()\n",
    "'''\n",
    "\n",
    "train_transaction contains a mix of categorical and numeric data. \n",
    "\n",
    "'''"
   ]
  },
  {
   "cell_type": "code",
   "execution_count": 2,
   "metadata": {},
   "outputs": [],
   "source": [
    "# Data Preprocessing\n",
    "\n",
    "# replace null values with -999\n",
    "train_identity = train_identity.fillna(value = -999)\n",
    "train_transaction = train_transaction.fillna(value = -999)\n",
    "\n",
    "from sklearn import preprocessing\n",
    "\n",
    "# convert non-numeric columns to numeric by assigning each class to a number\n",
    "number = preprocessing.LabelEncoder()\n",
    "\n",
    "for col in list(train_identity):\n",
    "    if (train_identity[col].dtype == \"object\"):\n",
    "        train_identity[col] = train_identity[col].astype(str)\n",
    "        train_identity[col] = number.fit_transform(train_identity[col])\n",
    "        \n",
    "for col in list(train_transaction):\n",
    "    if (train_transaction[col].dtype == \"object\"):\n",
    "        train_transaction[col] = train_transaction[col].astype(str)\n",
    "        train_transaction[col] = number.fit_transform(train_transaction[col])\n",
    "        "
   ]
  },
  {
   "cell_type": "code",
   "execution_count": 3,
   "metadata": {},
   "outputs": [],
   "source": [
    "# not all transactions have corresponding identity data, so only include those with identity data\n",
    "# df = pd.merge(train_identity, train_transaction, on = \"TransactionID\", how = \"left\")\n",
    "\n",
    "# not all transactions have corresponding identity data, so for instances with no corresponding idenity data, fill with \n",
    "# dummy values\n",
    "df = pd.merge(train_identity, train_transaction, on = \"TransactionID\", how = \"outer\")\n",
    "df = df.fillna(value = -999)"
   ]
  },
  {
   "cell_type": "code",
   "execution_count": 5,
   "metadata": {},
   "outputs": [
    {
     "name": "stdout",
     "output_type": "stream",
     "text": [
      "(50, 433)\n"
     ]
    }
   ],
   "source": [
    "from sklearn.model_selection import train_test_split\n",
    "\n",
    "X = df.drop([\"isFraud\"], axis = 1).values\n",
    "\n",
    "y = df[\"isFraud\"].values\n",
    "\n",
    "X_train, X_test, y_train, y_test = train_test_split(X, y, random_state = 0, test_size = 0.25, stratify = y)\n",
    "\n",
    "X_train_small, X_test_small, y_train_small, y_test_small = train_test_split(X, y, random_state = 0, test_size = 50, train_size = 50, stratify = y)\n",
    "\n",
    "print(X_train_small.shape)"
   ]
  },
  {
   "cell_type": "code",
   "execution_count": 8,
   "metadata": {},
   "outputs": [],
   "source": [
    "def metrics(model, X_test):\n",
    "    predicted = model.predict(X_test)\n",
    "\n",
    "    from sklearn.metrics import accuracy_score\n",
    "\n",
    "    print(\"The accuracy score is \" + str(accuracy_score(y_test, predicted)))\n",
    "\n",
    "    from sklearn.metrics import confusion_matrix\n",
    "\n",
    "    print(\"Confusion matrix: \")\n",
    "    print(confusion_matrix(y_test, predicted))\n",
    "\n",
    "    from sklearn.metrics import precision_score\n",
    "\n",
    "    print(\"The precision score is \" + str(precision_score(y_test, predicted)))\n",
    "\n",
    "    from sklearn.metrics import recall_score\n",
    "\n",
    "    print(\"The recall score is \" + str(recall_score(y_test, predicted)))\n",
    "\n",
    "\n",
    "    from sklearn.metrics import f1_score\n",
    "\n",
    "    print(\"The F1 score is \" + str(f1_score(y_test, predicted)))"
   ]
  },
  {
   "cell_type": "code",
   "execution_count": 6,
   "metadata": {},
   "outputs": [
    {
     "name": "stdout",
     "output_type": "stream",
     "text": [
      "The accuracy score is 0.9795712398821418\n",
      "Confusion matrix: \n",
      "[[142294    131]\n",
      " [  2885   2325]]\n",
      "The precision score is 0.9466612377850163\n",
      "The recall score is 0.44625719769673705\n",
      "The F1 score is 0.6065744847378033\n"
     ]
    }
   ],
   "source": [
    "from sklearn.ensemble import RandomForestClassifier\n",
    "\n",
    "model = RandomForestClassifier(criterion = \"entropy\")\n",
    "model.fit(X_train, y_train)\n",
    "\n",
    "metrics(model, X_test)"
   ]
  },
  {
   "cell_type": "code",
   "execution_count": 7,
   "metadata": {},
   "outputs": [
    {
     "name": "stdout",
     "output_type": "stream",
     "text": [
      "The accuracy score is 0.9711586006028381\n",
      "Confusion matrix: \n",
      "[[142040    385]\n",
      " [  3873   1337]]\n",
      "The precision score is 0.7764227642276422\n",
      "The recall score is 0.2566218809980806\n",
      "The F1 score is 0.3857472590882861\n"
     ]
    }
   ],
   "source": [
    "from sklearn.ensemble import AdaBoostClassifier\n",
    "\n",
    "model = AdaBoostClassifier()\n",
    "model.fit(X_train, y_train)\n",
    "\n",
    "metrics(model, X_test)"
   ]
  },
  {
   "cell_type": "code",
   "execution_count": 8,
   "metadata": {},
   "outputs": [
    {
     "name": "stdout",
     "output_type": "stream",
     "text": [
      "The accuracy score is 0.9647102651810208\n",
      "Confusion matrix: \n",
      "[[142425      0]\n",
      " [  5210      0]]\n",
      "The precision score is 0.0\n",
      "The recall score is 0.0\n",
      "The F1 score is 0.0\n"
     ]
    },
    {
     "name": "stderr",
     "output_type": "stream",
     "text": [
      "C:\\Users\\Dillan\\anaconda3\\lib\\site-packages\\sklearn\\metrics\\_classification.py:1221: UndefinedMetricWarning: Precision is ill-defined and being set to 0.0 due to no predicted samples. Use `zero_division` parameter to control this behavior.\n",
      "  _warn_prf(average, modifier, msg_start, len(result))\n"
     ]
    }
   ],
   "source": [
    "from sklearn.svm import SVC\n",
    "\n",
    "model = SVC()\n",
    "model.fit(X_train, y_train)\n",
    "\n",
    "metrics(model, X_test)"
   ]
  },
  {
   "cell_type": "code",
   "execution_count": 7,
   "metadata": {},
   "outputs": [
    {
     "data": {
      "image/png": "[encoded data removed]",
      "text/plain": [
       "<Figure size 432x288 with 1 Axes>"
      ]
     },
     "metadata": {
      "needs_background": "light"
     },
     "output_type": "display_data"
    },
    {
     "name": "stdout",
     "output_type": "stream",
     "text": [
      "Best Depth: 20\n",
      "Best Depth Accuracy 0.9780810783350832\n"
     ]
    }
   ],
   "source": [
    "from sklearn.ensemble import RandomForestClassifier\n",
    "from sklearn.metrics import accuracy_score\n",
    "\n",
    "vars = []\n",
    "for i in range(20):\n",
    "    model = RandomForestClassifier(criterion = \"entropy\", max_depth=i+1)\n",
    "    model.fit(X_train, y_train)\n",
    "    predicted = model.predict(X_test)\n",
    "    vars.append(accuracy_score(y_test, predicted))\n",
    "    \n",
    "plt.title(\"Random Forest Accuracy vs Max Depth\")\n",
    "plt.xlabel(\"Max Depth\")\n",
    "plt.ylabel(\"Accuracy\")\n",
    "plt.plot(np.arange(1,21), vars, color =\"red\")\n",
    "plt.show()\n",
    "print(\"Best Depth: \" + str(vars.index(max(vars)) + 1))\n",
    "print(\"Best Depth Accuracy \" + str(max(vars)))\n",
    "    "
   ]
  },
  {
   "cell_type": "code",
   "execution_count": 9,
   "metadata": {},
   "outputs": [
    {
     "ename": "ValueError",
     "evalue": "x and y must have same first dimension, but have shapes (20,) and (19,)",
     "output_type": "error",
     "traceback": [
      "\u001b[1;31m---------------------------------------------------------------------------\u001b[0m",
      "\u001b[1;31mValueError\u001b[0m                                Traceback (most recent call last)",
      "\u001b[1;32m<ipython-input-9-bfbe82b0e22e>\u001b[0m in \u001b[0;36m<module>\u001b[1;34m\u001b[0m\n\u001b[0;32m     12\u001b[0m \u001b[0mplt\u001b[0m\u001b[1;33m.\u001b[0m\u001b[0mxlabel\u001b[0m\u001b[1;33m(\u001b[0m\u001b[1;34m\"Minimum Sample Split\"\u001b[0m\u001b[1;33m)\u001b[0m\u001b[1;33m\u001b[0m\u001b[1;33m\u001b[0m\u001b[0m\n\u001b[0;32m     13\u001b[0m \u001b[0mplt\u001b[0m\u001b[1;33m.\u001b[0m\u001b[0mylabel\u001b[0m\u001b[1;33m(\u001b[0m\u001b[1;34m\"Accuracy\"\u001b[0m\u001b[1;33m)\u001b[0m\u001b[1;33m\u001b[0m\u001b[1;33m\u001b[0m\u001b[0m\n\u001b[1;32m---> 14\u001b[1;33m \u001b[0mplt\u001b[0m\u001b[1;33m.\u001b[0m\u001b[0mplot\u001b[0m\u001b[1;33m(\u001b[0m\u001b[0mnp\u001b[0m\u001b[1;33m.\u001b[0m\u001b[0marange\u001b[0m\u001b[1;33m(\u001b[0m\u001b[1;36m1000\u001b[0m\u001b[1;33m,\u001b[0m \u001b[1;36m20001\u001b[0m\u001b[1;33m,\u001b[0m \u001b[1;36m1000\u001b[0m\u001b[1;33m)\u001b[0m\u001b[1;33m,\u001b[0m \u001b[0mvars\u001b[0m\u001b[1;33m,\u001b[0m \u001b[0mcolor\u001b[0m \u001b[1;33m=\u001b[0m\u001b[1;34m\"red\"\u001b[0m\u001b[1;33m)\u001b[0m\u001b[1;33m\u001b[0m\u001b[1;33m\u001b[0m\u001b[0m\n\u001b[0m\u001b[0;32m     15\u001b[0m \u001b[0mplt\u001b[0m\u001b[1;33m.\u001b[0m\u001b[0mshow\u001b[0m\u001b[1;33m(\u001b[0m\u001b[1;33m)\u001b[0m\u001b[1;33m\u001b[0m\u001b[1;33m\u001b[0m\u001b[0m\n\u001b[0;32m     16\u001b[0m \u001b[0mprint\u001b[0m\u001b[1;33m(\u001b[0m\u001b[1;34m\"Best Minimum Sample Split: \"\u001b[0m \u001b[1;33m+\u001b[0m \u001b[0mstr\u001b[0m\u001b[1;33m(\u001b[0m\u001b[0mvars\u001b[0m\u001b[1;33m.\u001b[0m\u001b[0mindex\u001b[0m\u001b[1;33m(\u001b[0m\u001b[0mmax\u001b[0m\u001b[1;33m(\u001b[0m\u001b[0mvars\u001b[0m\u001b[1;33m)\u001b[0m\u001b[1;33m)\u001b[0m \u001b[1;33m+\u001b[0m \u001b[1;36m1\u001b[0m\u001b[1;33m)\u001b[0m\u001b[1;33m)\u001b[0m\u001b[1;33m\u001b[0m\u001b[1;33m\u001b[0m\u001b[0m\n",
      "\u001b[1;32m~\\anaconda3\\lib\\site-packages\\matplotlib\\pyplot.py\u001b[0m in \u001b[0;36mplot\u001b[1;34m(scalex, scaley, data, *args, **kwargs)\u001b[0m\n\u001b[0;32m   2838\u001b[0m \u001b[1;33m@\u001b[0m\u001b[0m_copy_docstring_and_deprecators\u001b[0m\u001b[1;33m(\u001b[0m\u001b[0mAxes\u001b[0m\u001b[1;33m.\u001b[0m\u001b[0mplot\u001b[0m\u001b[1;33m)\u001b[0m\u001b[1;33m\u001b[0m\u001b[1;33m\u001b[0m\u001b[0m\n\u001b[0;32m   2839\u001b[0m \u001b[1;32mdef\u001b[0m \u001b[0mplot\u001b[0m\u001b[1;33m(\u001b[0m\u001b[1;33m*\u001b[0m\u001b[0margs\u001b[0m\u001b[1;33m,\u001b[0m \u001b[0mscalex\u001b[0m\u001b[1;33m=\u001b[0m\u001b[1;32mTrue\u001b[0m\u001b[1;33m,\u001b[0m \u001b[0mscaley\u001b[0m\u001b[1;33m=\u001b[0m\u001b[1;32mTrue\u001b[0m\u001b[1;33m,\u001b[0m \u001b[0mdata\u001b[0m\u001b[1;33m=\u001b[0m\u001b[1;32mNone\u001b[0m\u001b[1;33m,\u001b[0m \u001b[1;33m**\u001b[0m\u001b[0mkwargs\u001b[0m\u001b[1;33m)\u001b[0m\u001b[1;33m:\u001b[0m\u001b[1;33m\u001b[0m\u001b[1;33m\u001b[0m\u001b[0m\n\u001b[1;32m-> 2840\u001b[1;33m     return gca().plot(\n\u001b[0m\u001b[0;32m   2841\u001b[0m         \u001b[1;33m*\u001b[0m\u001b[0margs\u001b[0m\u001b[1;33m,\u001b[0m \u001b[0mscalex\u001b[0m\u001b[1;33m=\u001b[0m\u001b[0mscalex\u001b[0m\u001b[1;33m,\u001b[0m \u001b[0mscaley\u001b[0m\u001b[1;33m=\u001b[0m\u001b[0mscaley\u001b[0m\u001b[1;33m,\u001b[0m\u001b[1;33m\u001b[0m\u001b[1;33m\u001b[0m\u001b[0m\n\u001b[0;32m   2842\u001b[0m         **({\"data\": data} if data is not None else {}), **kwargs)\n",
      "\u001b[1;32m~\\anaconda3\\lib\\site-packages\\matplotlib\\axes\\_axes.py\u001b[0m in \u001b[0;36mplot\u001b[1;34m(self, scalex, scaley, data, *args, **kwargs)\u001b[0m\n\u001b[0;32m   1741\u001b[0m         \"\"\"\n\u001b[0;32m   1742\u001b[0m         \u001b[0mkwargs\u001b[0m \u001b[1;33m=\u001b[0m \u001b[0mcbook\u001b[0m\u001b[1;33m.\u001b[0m\u001b[0mnormalize_kwargs\u001b[0m\u001b[1;33m(\u001b[0m\u001b[0mkwargs\u001b[0m\u001b[1;33m,\u001b[0m \u001b[0mmlines\u001b[0m\u001b[1;33m.\u001b[0m\u001b[0mLine2D\u001b[0m\u001b[1;33m)\u001b[0m\u001b[1;33m\u001b[0m\u001b[1;33m\u001b[0m\u001b[0m\n\u001b[1;32m-> 1743\u001b[1;33m         \u001b[0mlines\u001b[0m \u001b[1;33m=\u001b[0m \u001b[1;33m[\u001b[0m\u001b[1;33m*\u001b[0m\u001b[0mself\u001b[0m\u001b[1;33m.\u001b[0m\u001b[0m_get_lines\u001b[0m\u001b[1;33m(\u001b[0m\u001b[1;33m*\u001b[0m\u001b[0margs\u001b[0m\u001b[1;33m,\u001b[0m \u001b[0mdata\u001b[0m\u001b[1;33m=\u001b[0m\u001b[0mdata\u001b[0m\u001b[1;33m,\u001b[0m \u001b[1;33m**\u001b[0m\u001b[0mkwargs\u001b[0m\u001b[1;33m)\u001b[0m\u001b[1;33m]\u001b[0m\u001b[1;33m\u001b[0m\u001b[1;33m\u001b[0m\u001b[0m\n\u001b[0m\u001b[0;32m   1744\u001b[0m         \u001b[1;32mfor\u001b[0m \u001b[0mline\u001b[0m \u001b[1;32min\u001b[0m \u001b[0mlines\u001b[0m\u001b[1;33m:\u001b[0m\u001b[1;33m\u001b[0m\u001b[1;33m\u001b[0m\u001b[0m\n\u001b[0;32m   1745\u001b[0m             \u001b[0mself\u001b[0m\u001b[1;33m.\u001b[0m\u001b[0madd_line\u001b[0m\u001b[1;33m(\u001b[0m\u001b[0mline\u001b[0m\u001b[1;33m)\u001b[0m\u001b[1;33m\u001b[0m\u001b[1;33m\u001b[0m\u001b[0m\n",
      "\u001b[1;32m~\\anaconda3\\lib\\site-packages\\matplotlib\\axes\\_base.py\u001b[0m in \u001b[0;36m__call__\u001b[1;34m(self, data, *args, **kwargs)\u001b[0m\n\u001b[0;32m    271\u001b[0m                 \u001b[0mthis\u001b[0m \u001b[1;33m+=\u001b[0m \u001b[0margs\u001b[0m\u001b[1;33m[\u001b[0m\u001b[1;36m0\u001b[0m\u001b[1;33m]\u001b[0m\u001b[1;33m,\u001b[0m\u001b[1;33m\u001b[0m\u001b[1;33m\u001b[0m\u001b[0m\n\u001b[0;32m    272\u001b[0m                 \u001b[0margs\u001b[0m \u001b[1;33m=\u001b[0m \u001b[0margs\u001b[0m\u001b[1;33m[\u001b[0m\u001b[1;36m1\u001b[0m\u001b[1;33m:\u001b[0m\u001b[1;33m]\u001b[0m\u001b[1;33m\u001b[0m\u001b[1;33m\u001b[0m\u001b[0m\n\u001b[1;32m--> 273\u001b[1;33m             \u001b[1;32myield\u001b[0m \u001b[1;32mfrom\u001b[0m \u001b[0mself\u001b[0m\u001b[1;33m.\u001b[0m\u001b[0m_plot_args\u001b[0m\u001b[1;33m(\u001b[0m\u001b[0mthis\u001b[0m\u001b[1;33m,\u001b[0m \u001b[0mkwargs\u001b[0m\u001b[1;33m)\u001b[0m\u001b[1;33m\u001b[0m\u001b[1;33m\u001b[0m\u001b[0m\n\u001b[0m\u001b[0;32m    274\u001b[0m \u001b[1;33m\u001b[0m\u001b[0m\n\u001b[0;32m    275\u001b[0m     \u001b[1;32mdef\u001b[0m \u001b[0mget_next_color\u001b[0m\u001b[1;33m(\u001b[0m\u001b[0mself\u001b[0m\u001b[1;33m)\u001b[0m\u001b[1;33m:\u001b[0m\u001b[1;33m\u001b[0m\u001b[1;33m\u001b[0m\u001b[0m\n",
      "\u001b[1;32m~\\anaconda3\\lib\\site-packages\\matplotlib\\axes\\_base.py\u001b[0m in \u001b[0;36m_plot_args\u001b[1;34m(self, tup, kwargs)\u001b[0m\n\u001b[0;32m    397\u001b[0m \u001b[1;33m\u001b[0m\u001b[0m\n\u001b[0;32m    398\u001b[0m         \u001b[1;32mif\u001b[0m \u001b[0mx\u001b[0m\u001b[1;33m.\u001b[0m\u001b[0mshape\u001b[0m\u001b[1;33m[\u001b[0m\u001b[1;36m0\u001b[0m\u001b[1;33m]\u001b[0m \u001b[1;33m!=\u001b[0m \u001b[0my\u001b[0m\u001b[1;33m.\u001b[0m\u001b[0mshape\u001b[0m\u001b[1;33m[\u001b[0m\u001b[1;36m0\u001b[0m\u001b[1;33m]\u001b[0m\u001b[1;33m:\u001b[0m\u001b[1;33m\u001b[0m\u001b[1;33m\u001b[0m\u001b[0m\n\u001b[1;32m--> 399\u001b[1;33m             raise ValueError(f\"x and y must have same first dimension, but \"\n\u001b[0m\u001b[0;32m    400\u001b[0m                              f\"have shapes {x.shape} and {y.shape}\")\n\u001b[0;32m    401\u001b[0m         \u001b[1;32mif\u001b[0m \u001b[0mx\u001b[0m\u001b[1;33m.\u001b[0m\u001b[0mndim\u001b[0m \u001b[1;33m>\u001b[0m \u001b[1;36m2\u001b[0m \u001b[1;32mor\u001b[0m \u001b[0my\u001b[0m\u001b[1;33m.\u001b[0m\u001b[0mndim\u001b[0m \u001b[1;33m>\u001b[0m \u001b[1;36m2\u001b[0m\u001b[1;33m:\u001b[0m\u001b[1;33m\u001b[0m\u001b[1;33m\u001b[0m\u001b[0m\n",
      "\u001b[1;31mValueError\u001b[0m: x and y must have same first dimension, but have shapes (20,) and (19,)"
     ]
    },
    {
     "data": {
      "image/png": "[encoded data removed]",
      "text/plain": [
       "<Figure size 432x288 with 1 Axes>"
      ]
     },
     "metadata": {
      "needs_background": "light"
     },
     "output_type": "display_data"
    }
   ],
   "source": [
    "from sklearn.ensemble import RandomForestClassifier\n",
    "from sklearn.metrics import accuracy_score\n",
    "\n",
    "vars = []\n",
    "for i in range(1000, 20000, 1000):\n",
    "    model = RandomForestClassifier(criterion = \"entropy\", max_depth=10, min_samples_split=i)\n",
    "    model.fit(X_train, y_train)\n",
    "    predicted = model.predict(X_test)\n",
    "    vars.append(accuracy_score(y_test, predicted))\n",
    "    \n",
    "plt.title(\"Random Forest Accuracy vs Minimum Sample Split\")\n",
    "plt.xlabel(\"Minimum Sample Split\")\n",
    "plt.ylabel(\"Accuracy\")\n",
    "plt.plot(np.arange(1000, 20001, 1000), vars, color =\"red\")\n",
    "plt.show()\n",
    "print(\"Best Minimum Sample Split: \" + str(vars.index(max(vars)) + 1))\n",
    "print(\"Best Minimum Sample Split Accuracy \" + str(max(vars)))"
   ]
  },
  {
   "cell_type": "code",
   "execution_count": 16,
   "metadata": {},
   "outputs": [
    {
     "data": {
      "image/png": "[encoded data removed]",
      "text/plain": [
       "<Figure size 432x288 with 1 Axes>"
      ]
     },
     "metadata": {
      "needs_background": "light"
     },
     "output_type": "display_data"
    },
    {
     "name": "stdout",
     "output_type": "stream",
     "text": [
      "Best Minimum Sample Split: 1000\n",
      "Best Minimum Sample Split Accuracy 0.9704202932908863\n"
     ]
    }
   ],
   "source": [
    "plt.title(\"Random Forest Accuracy vs Minimum Sample Split\")\n",
    "plt.xlabel(\"Minimum Sample Split\")\n",
    "plt.ylabel(\"Accuracy\")\n",
    "plt.plot(np.arange(1000, 20000, 1000), vars, color =\"red\")\n",
    "plt.show()\n",
    "print(\"Best Minimum Sample Split: \" + str(vars.index(max(vars)) + 1) + \"000\")\n",
    "print(\"Best Minimum Sample Split Accuracy \" + str(max(vars)))"
   ]
  },
  {
   "cell_type": "code",
   "execution_count": 17,
   "metadata": {},
   "outputs": [
    {
     "data": {
      "image/png": "[encoded data removed]",
      "text/plain": [
       "<Figure size 432x288 with 1 Axes>"
      ]
     },
     "metadata": {
      "needs_background": "light"
     },
     "output_type": "display_data"
    },
    {
     "name": "stdout",
     "output_type": "stream",
     "text": [
      "Best Number of Estimators: 90\n",
      "Best Number of Estimators Accuracy 0.9720662444542283\n"
     ]
    }
   ],
   "source": [
    "from sklearn.ensemble import AdaBoostClassifier\n",
    "from sklearn.metrics import accuracy_score\n",
    "\n",
    "vars = []\n",
    "for i in range(10, 100, 10):\n",
    "    model = AdaBoostClassifier(n_estimators=i)\n",
    "    model.fit(X_train, y_train)\n",
    "    predicted = model.predict(X_test)\n",
    "    vars.append(accuracy_score(y_test, predicted))\n",
    "    \n",
    "plt.title(\"AdaBoost Accuracy vs Number of Estimators\")\n",
    "plt.xlabel(\"Number of Estimators\")\n",
    "plt.ylabel(\"Accuracy\")\n",
    "plt.plot(np.arange(10, 100, 10), vars, color =\"red\")\n",
    "plt.show()\n",
    "print(\"Best Number of Estimators: \" + str(vars.index(max(vars)) + 1) + \"0\")\n",
    "print(\"Best Number of Estimators Accuracy \" + str(max(vars)))\n",
    "    "
   ]
  },
  {
   "cell_type": "code",
   "execution_count": 7,
   "metadata": {},
   "outputs": [
    {
     "name": "stdout",
     "output_type": "stream",
     "text": [
      "Average Classification Accuracy for Linear SVM: 0.940000\n",
      "Average Classification Accuracy for quadratic SVM: 0.920000\n",
      "Average Classification Accuracy for RBF SVM: 0.960000\n"
     ]
    }
   ],
   "source": [
    "from sklearn.svm import SVC\n",
    "from sklearn.model_selection import cross_val_score\n",
    "\n",
    "linear_support_vector_machine = SVC(kernel='linear')\n",
    "cv_score = cross_val_score(linear_support_vector_machine, X_train_small, y_train_small, cv=2)\n",
    "print(\"Average Classification Accuracy for Linear SVM: %f\" % cv_score.mean())\n",
    "\n",
    "quad_support_vector_machine = SVC(kernel='poly', degree=2, gamma='auto')\n",
    "cv_score = cross_val_score(quad_support_vector_machine, X_train_small, y_train_small, cv=2)\n",
    "print(\"Average Classification Accuracy for quadratic SVM: %f\" % cv_score.mean())\n",
    "\n",
    "rbf_support_vector_machine = SVC(kernel='rbf', gamma='auto')\n",
    "cv_score = cross_val_score(rbf_support_vector_machine, X_train_small, y_train_small, cv=2)\n",
    "print(\"Average Classification Accuracy for RBF SVM: %f\" % cv_score.mean())\n",
    "\n",
    "# note that SVC was tested on a small sample(50) due to longer runtimes, thus it may not be feasible to use this model"
   ]
  },
  {
   "cell_type": "code",
   "execution_count": 9,
   "metadata": {},
   "outputs": [
    {
     "name": "stdout",
     "output_type": "stream",
     "text": [
      "<bound method NDFrame.head of         TransactionID  isFraud  TransactionDT  TransactionAmt  ProductCD  \\\n",
      "0             2987000        0      -1.577987       -0.278167          4   \n",
      "1             2987001        0      -1.577986       -0.443327          4   \n",
      "2             2987002        0      -1.577972       -0.317889          4   \n",
      "3             2987003        0      -1.577965       -0.355521          4   \n",
      "4             2987004        0      -1.577964       -0.355521          1   \n",
      "...               ...      ...            ...             ...        ...   \n",
      "590535        3577535        0       1.827666       -0.359702          4   \n",
      "590536        3577536        0       1.827666       -0.399424          4   \n",
      "590537        3577537        0       1.827673       -0.435174          4   \n",
      "590538        3577538        0       1.827675       -0.075376          4   \n",
      "590539        3577539        0       1.827684        0.605960          4   \n",
      "\n",
      "        card1  card2  card3  card4  card5  ...      V330      V331      V332  \\\n",
      "0       13926 -999.0  150.0      2  142.0  ... -0.402547 -0.100108 -0.077898   \n",
      "1        2755  404.0  150.0      3  102.0  ... -0.402547 -0.100108 -0.077898   \n",
      "2        4663  490.0  150.0      4  166.0  ... -0.402547 -0.100108 -0.077898   \n",
      "3       18132  567.0  150.0      3  117.0  ... -0.402547 -0.100108 -0.077898   \n",
      "4        4497  514.0  150.0      3  102.0  ...  2.481880  0.316665  0.157091   \n",
      "...       ...    ...    ...    ...    ...  ...       ...       ...       ...   \n",
      "590535   6550 -999.0  150.0      4  226.0  ... -0.402547 -0.100108 -0.077898   \n",
      "590536  10444  225.0  150.0      3  224.0  ... -0.402547 -0.100108 -0.077898   \n",
      "590537  12037  595.0  150.0      3  224.0  ... -0.402547 -0.100108 -0.077898   \n",
      "590538   7826  481.0  150.0      3  224.0  ... -0.402547 -0.100108 -0.077898   \n",
      "590539  15066  170.0  150.0      3  102.0  ... -0.402547 -0.100108 -0.077898   \n",
      "\n",
      "            V333      V334      V335      V336      V337      V338      V339  \n",
      "0      -0.092015 -0.389543 -0.374416 -0.386823 -0.332344 -0.280927 -0.314517  \n",
      "1      -0.092015 -0.389543 -0.374416 -0.386823 -0.332344 -0.280927 -0.314517  \n",
      "2      -0.092015 -0.389543 -0.374416 -0.386823 -0.332344 -0.280927 -0.314517  \n",
      "3      -0.092015 -0.389543 -0.374416 -0.386823 -0.332344 -0.280927 -0.314517  \n",
      "4       0.235345  2.376721  2.160407  2.310067  1.925783  1.468846  1.734357  \n",
      "...          ...       ...       ...       ...       ...       ...       ...  \n",
      "590535 -0.092015 -0.389543 -0.374416 -0.386823 -0.332344 -0.280927 -0.314517  \n",
      "590536 -0.092015 -0.389543 -0.374416 -0.386823 -0.332344 -0.280927 -0.314517  \n",
      "590537 -0.092015 -0.389543 -0.374416 -0.386823 -0.332344 -0.280927 -0.314517  \n",
      "590538 -0.092015 -0.389543 -0.374416 -0.386823 -0.332344 -0.280927 -0.314517  \n",
      "590539 -0.092015 -0.389543 -0.374416 -0.386823 -0.332344 -0.280927 -0.314517  \n",
      "\n",
      "[590540 rows x 394 columns]>\n",
      "The accuracy score is 0.9764622210180512\n",
      "Confusion matrix: \n",
      "[[142295    174]\n",
      " [  3301   1865]]\n",
      "The precision score is 0.9146640510053948\n",
      "The recall score is 0.3610143244289586\n",
      "The F1 score is 0.5176960444136016\n"
     ]
    }
   ],
   "source": [
    "# since random forest performed the best, we will be using this model with the best hyperparameters that could intuitively\n",
    "# be determined\n",
    "\n",
    "# Scale the data\n",
    "scaled_features = train_transaction.copy()\n",
    "\n",
    "unscaled_col_names = [\"isFraud\", \"TransactionID\", \"card1\", \"card2\", \"card3\", \"card4\", \"card5\", \"card6\", \"ProductCD\", \"addr1\", \"addr2\", \"P_emaildomain\", \"R_emaildomain\", \"M1\", \"M2\", \"M3\", \"M4\", \"M5\", \"M6\", \"M7\", \"M8\", \"M9\"]\n",
    "col_names = train_transaction.drop(unscaled_col_names, axis = 1).columns\n",
    "\n",
    "scaler = preprocessing.StandardScaler().fit(train_transaction[col_names].values)\n",
    "train_transaction[col_names] = scaler.transform(train_transaction[col_names].values)\n",
    "print(train_transaction.head)\n",
    "\n",
    "df = pd.merge(train_identity, train_transaction, on = \"TransactionID\", how = \"outer\")\n",
    "df = df.fillna(value = -999)\n",
    "\n",
    "from sklearn.model_selection import train_test_split\n",
    "\n",
    "X = df.drop([\"isFraud\"], axis = 1).values\n",
    "\n",
    "y = df[\"isFraud\"].values\n",
    "\n",
    "X_train, X_test, y_train, y_test = train_test_split(X, y, random_state = 0, test_size = 0.25, stratify = y)\n",
    "\n",
    "from sklearn.ensemble import RandomForestClassifier\n",
    "\n",
    "model = RandomForestClassifier(criterion = \"entropy\", max_depth = 20, min_samples_split=20)\n",
    "model.fit(X_train, y_train)\n",
    "\n",
    "metrics(model, X_test)"
   ]
  },
  {
   "cell_type": "code",
   "execution_count": 10,
   "metadata": {},
   "outputs": [
    {
     "name": "stdout",
     "output_type": "stream",
     "text": [
      "df before: (590540, 434)\n",
      "df after: (590540, 174)\n",
      "The accuracy score is 0.9736038202323297\n",
      "Confusion matrix: \n",
      "[[142309    160]\n",
      " [  3737   1429]]\n",
      "The precision score is 0.8993077407174324\n",
      "The recall score is 0.27661633759194737\n",
      "The F1 score is 0.42309400444115475\n"
     ]
    }
   ],
   "source": [
    "# Feature Selection\n",
    "\n",
    "# note that this is with scaled data\n",
    "\n",
    "'''from sklearn.feature_selection import VarianceThreshold\n",
    "\n",
    "print(\"df before: \" + str(df.shape))\n",
    "selector = VarianceThreshold()\n",
    "df = pd.DataFrame(selector.fit_transform(df), columns = df.columns)\n",
    "print(\"df after: \" + str(df.shape))'''\n",
    "\n",
    "from sklearn.feature_selection import SelectKBest, f_classif\n",
    "import math\n",
    "\n",
    "print(\"df before: \" + str(df.shape))\n",
    "selector = SelectKBest(f_classif, k=math.floor(df.shape[1] * 0.4))\n",
    "selector.fit(df.drop([\"isFraud\"], axis = 1).values, df[\"isFraud\"].values)\n",
    "cols = selector.get_support(indices=True)\n",
    "cols = np.append(cols, [df.columns.get_loc(\"isFraud\")])\n",
    "df = df.iloc[:, cols]\n",
    "print(\"df after: \" + str(df.shape))\n",
    "\n",
    "from sklearn.model_selection import train_test_split\n",
    "\n",
    "X = df.drop([\"isFraud\"], axis = 1).values\n",
    "\n",
    "y = df[\"isFraud\"].values\n",
    "\n",
    "X_train, X_test, y_train, y_test = train_test_split(X, y, random_state = 0, test_size = 0.25, stratify = y)\n",
    "\n",
    "from sklearn.ensemble import RandomForestClassifier\n",
    "\n",
    "model = RandomForestClassifier(criterion = \"entropy\", max_depth = 20, min_samples_split=20)\n",
    "model.fit(X_train, y_train)\n",
    "\n",
    "metrics(model, X_test)"
   ]
  },
  {
   "cell_type": "code",
   "execution_count": 13,
   "metadata": {},
   "outputs": [
    {
     "name": "stdout",
     "output_type": "stream",
     "text": [
      "K percentage: 20%\n",
      "df before: (590540, 434)\n",
      "df after: (590540, 86)\n",
      "K percentage: 30%\n",
      "df before: (590540, 434)\n",
      "df after: (590540, 130)\n",
      "K percentage: 40%\n",
      "df before: (590540, 434)\n",
      "df after: (590540, 173)\n",
      "K percentage: 50%\n",
      "df before: (590540, 434)\n",
      "df after: (590540, 217)\n",
      "K percentage: 60%\n",
      "df before: (590540, 434)\n",
      "df after: (590540, 260)\n",
      "K percentage: 70%\n",
      "df before: (590540, 434)\n",
      "df after: (590540, 303)\n",
      "K percentage: 80%\n",
      "df before: (590540, 434)\n",
      "df after: (590540, 347)\n",
      "K percentage: 90%\n",
      "df before: (590540, 434)\n",
      "df after: (590540, 390)\n",
      "K percentage: 100%\n",
      "df before: (590540, 434)\n",
      "df after: (590540, 434)\n"
     ]
    },
    {
     "data": {
      "image/png": "[encoded data removed]",
      "text/plain": [
       "<Figure size 432x288 with 1 Axes>"
      ]
     },
     "metadata": {
      "needs_background": "light"
     },
     "output_type": "display_data"
    },
    {
     "name": "stdout",
     "output_type": "stream",
     "text": [
      "Best K: 6\n",
      "Best K Accuracy 0.9766654248653774\n"
     ]
    }
   ],
   "source": [
    "from sklearn.feature_selection import SelectKBest, f_classif\n",
    "import math\n",
    "from sklearn.metrics import accuracy_score\n",
    "\n",
    "df = pd.merge(train_identity, train_transaction, on = \"TransactionID\", how = \"outer\")\n",
    "df = df.fillna(value = -999)\n",
    "\n",
    "vars = []\n",
    "for i in range(2, 11, 1):\n",
    "    \n",
    "    print(\"K percentage: \" + str(i * 10) + \"%\")\n",
    "    print(\"df before: \" + str(df.shape))\n",
    "    selector = SelectKBest(f_classif, k=math.floor(df.shape[1] * 0.1 * i) - 1)\n",
    "    selector.fit(df.drop([\"isFraud\"], axis = 1).values, df[\"isFraud\"].values)\n",
    "    cols = selector.get_support(indices=True)\n",
    "    cols = np.append(cols, [df.columns.get_loc(\"isFraud\")])\n",
    "    new_df = df.iloc[:, cols]\n",
    "    print(\"df after: \" + str(new_df.shape))\n",
    "    \n",
    "    X = new_df.drop([\"isFraud\"], axis = 1).values\n",
    "\n",
    "    y = new_df[\"isFraud\"].values\n",
    "\n",
    "    X_train, X_test, y_train, y_test = train_test_split(X, y, random_state = 0, test_size = 0.25, stratify = y)\n",
    "    \n",
    "    model = RandomForestClassifier(criterion = \"entropy\", max_depth = 20, min_samples_split=20)\n",
    "    model.fit(X_train, y_train)\n",
    "    predicted = model.predict(X_test)\n",
    "    vars.append(accuracy_score(y_test, predicted))\n",
    "    \n",
    "plt.title(\"Random Forest Accuracy vs K Best\")\n",
    "plt.xlabel(\"Best K in terms of percentage\")\n",
    "plt.ylabel(\"Accuracy\")\n",
    "plt.plot(np.arange(2, 11, 1), vars, color =\"red\")\n",
    "plt.show()\n",
    "print(\"Best K: \" + str(vars.index(max(vars)) + 1))\n",
    "print(\"Best K Accuracy \" + str(max(vars)))"
   ]
  },
  {
   "cell_type": "code",
   "execution_count": 14,
   "metadata": {},
   "outputs": [
    {
     "name": "stdout",
     "output_type": "stream",
     "text": [
      "df before: (590540, 434)\n",
      "df after: (590540, 261)\n",
      "The accuracy score is 0.9767060656348426\n",
      "Confusion matrix: \n",
      "[[142327    142]\n",
      " [  3297   1869]]\n",
      "The precision score is 0.929388363998011\n",
      "The recall score is 0.3617886178861789\n",
      "The F1 score is 0.5208304305420093\n"
     ]
    }
   ],
   "source": [
    "# final best model\n",
    "\n",
    "# assumes scaling and other data preprocessing already done to create df\n",
    "from sklearn.feature_selection import SelectKBest, f_classif\n",
    "import math\n",
    "\n",
    "print(\"df before: \" + str(df.shape))\n",
    "selector = SelectKBest(f_classif, k=math.floor(df.shape[1] * 0.6))\n",
    "selector.fit(df.drop([\"isFraud\"], axis = 1).values, df[\"isFraud\"].values)\n",
    "cols = selector.get_support(indices=True)\n",
    "cols = np.append(cols, [df.columns.get_loc(\"isFraud\")])\n",
    "df = df.iloc[:, cols]\n",
    "print(\"df after: \" + str(df.shape))\n",
    "\n",
    "from sklearn.model_selection import train_test_split\n",
    "\n",
    "X = df.drop([\"isFraud\"], axis = 1).values\n",
    "\n",
    "y = df[\"isFraud\"].values\n",
    "\n",
    "X_train, X_test, y_train, y_test = train_test_split(X, y, random_state = 0, test_size = 0.25, stratify = y)\n",
    "\n",
    "from sklearn.ensemble import RandomForestClassifier\n",
    "\n",
    "model = RandomForestClassifier(criterion = \"entropy\", max_depth = 20, min_samples_split=20)\n",
    "model.fit(X_train, y_train)\n",
    "\n",
    "metrics(model, X_test)"
   ]
  },
  {
   "cell_type": "code",
   "execution_count": null,
   "metadata": {},
   "outputs": [],
   "source": []
  }
 ],
 "metadata": {
  "kernelspec": {
   "display_name": "Python 3",
   "language": "python",
   "name": "python3"
  },
  "language_info": {
   "codemirror_mode": {
    "name": "ipython",
    "version": 3
   },
   "file_extension": ".py",
   "mimetype": "text/x-python",
   "name": "python",
   "nbconvert_exporter": "python",
   "pygments_lexer": "ipython3",
   "version": "3.8.5"
  }
 },
 "nbformat": 4,
 "nbformat_minor": 4
}
