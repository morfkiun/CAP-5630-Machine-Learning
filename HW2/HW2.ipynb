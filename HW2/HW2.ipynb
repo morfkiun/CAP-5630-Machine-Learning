{
 "cells": [
  {
   "cell_type": "code",
   "execution_count": 66,
   "metadata": {
    "scrolled": true
   },
   "outputs": [
    {
     "data": {
      "text/plain": [
       "[Text(152.91346153846155, 199.32, 'X[4] <= 0.5\\nentropy = 0.961\\nsamples = 596\\nvalue = [367, 229]'),\n",
       " Text(67.60384615384615, 163.07999999999998, 'X[1] <= 6.5\\nentropy = 0.66\\nsamples = 380\\nvalue = [315, 65]'),\n",
       " Text(25.753846153846155, 126.83999999999999, 'X[2] <= 2.5\\nentropy = 0.954\\nsamples = 16\\nvalue = [6, 10]'),\n",
       " Text(12.876923076923077, 90.6, 'entropy = 0.0\\nsamples = 9\\nvalue = [0, 9]'),\n",
       " Text(38.63076923076923, 90.6, 'entropy = 0.592\\nsamples = 7\\nvalue = [6, 1]'),\n",
       " Text(109.45384615384616, 126.83999999999999, 'X[0] <= 1.5\\nentropy = 0.613\\nsamples = 364\\nvalue = [309, 55]'),\n",
       " Text(64.38461538461539, 90.6, 'X[1] <= 51.5\\nentropy = 0.89\\nsamples = 78\\nvalue = [54, 24]'),\n",
       " Text(38.63076923076923, 54.359999999999985, 'X[3] <= 1.5\\nentropy = 0.947\\nsamples = 63\\nvalue = [40, 23]'),\n",
       " Text(25.753846153846155, 18.119999999999976, 'entropy = 0.918\\nsamples = 60\\nvalue = [40, 20]'),\n",
       " Text(51.50769230769231, 18.119999999999976, 'entropy = 0.0\\nsamples = 3\\nvalue = [0, 3]'),\n",
       " Text(90.13846153846154, 54.359999999999985, 'X[2] <= 0.5\\nentropy = 0.353\\nsamples = 15\\nvalue = [14, 1]'),\n",
       " Text(77.26153846153846, 18.119999999999976, 'entropy = 0.0\\nsamples = 11\\nvalue = [11, 0]'),\n",
       " Text(103.01538461538462, 18.119999999999976, 'entropy = 0.811\\nsamples = 4\\nvalue = [3, 1]'),\n",
       " Text(154.52307692307693, 90.6, 'X[1] <= 45.25\\nentropy = 0.495\\nsamples = 286\\nvalue = [255, 31]'),\n",
       " Text(141.64615384615385, 54.359999999999985, 'X[1] <= 44.5\\nentropy = 0.522\\nsamples = 264\\nvalue = [233, 31]'),\n",
       " Text(128.76923076923077, 18.119999999999976, 'entropy = 0.512\\nsamples = 263\\nvalue = [233, 30]'),\n",
       " Text(154.52307692307693, 18.119999999999976, 'entropy = 0.0\\nsamples = 1\\nvalue = [0, 1]'),\n",
       " Text(167.4, 54.359999999999985, 'entropy = 0.0\\nsamples = 22\\nvalue = [22, 0]'),\n",
       " Text(238.22307692307692, 163.07999999999998, 'X[0] <= 2.5\\nentropy = 0.796\\nsamples = 216\\nvalue = [52, 164]'),\n",
       " Text(193.15384615384616, 126.83999999999999, 'X[1] <= 2.5\\nentropy = 0.313\\nsamples = 124\\nvalue = [7, 117]'),\n",
       " Text(180.27692307692308, 90.6, 'entropy = 1.0\\nsamples = 2\\nvalue = [1, 1]'),\n",
       " Text(206.03076923076924, 90.6, 'X[3] <= 0.5\\nentropy = 0.283\\nsamples = 122\\nvalue = [6, 116]'),\n",
       " Text(193.15384615384616, 54.359999999999985, 'X[0] <= 1.5\\nentropy = 0.395\\nsamples = 77\\nvalue = [6, 71]'),\n",
       " Text(180.27692307692308, 18.119999999999976, 'entropy = 0.165\\nsamples = 41\\nvalue = [1, 40]'),\n",
       " Text(206.03076923076924, 18.119999999999976, 'entropy = 0.581\\nsamples = 36\\nvalue = [5, 31]'),\n",
       " Text(218.90769230769232, 54.359999999999985, 'entropy = 0.0\\nsamples = 45\\nvalue = [0, 45]'),\n",
       " Text(283.2923076923077, 126.83999999999999, 'X[2] <= 2.5\\nentropy = 1.0\\nsamples = 92\\nvalue = [45, 47]'),\n",
       " Text(257.53846153846155, 90.6, 'X[1] <= 38.5\\nentropy = 0.989\\nsamples = 80\\nvalue = [35, 45]'),\n",
       " Text(244.66153846153847, 54.359999999999985, 'X[1] <= 7.0\\nentropy = 0.975\\nsamples = 76\\nvalue = [31, 45]'),\n",
       " Text(231.7846153846154, 18.119999999999976, 'entropy = 0.0\\nsamples = 5\\nvalue = [0, 5]'),\n",
       " Text(257.53846153846155, 18.119999999999976, 'entropy = 0.988\\nsamples = 71\\nvalue = [31, 40]'),\n",
       " Text(270.4153846153846, 54.359999999999985, 'entropy = 0.0\\nsamples = 4\\nvalue = [4, 0]'),\n",
       " Text(309.04615384615386, 90.6, 'X[1] <= 31.439\\nentropy = 0.65\\nsamples = 12\\nvalue = [10, 2]'),\n",
       " Text(296.1692307692308, 54.359999999999985, 'X[1] <= 16.5\\nentropy = 0.439\\nsamples = 11\\nvalue = [10, 1]'),\n",
       " Text(283.2923076923077, 18.119999999999976, 'entropy = 0.0\\nsamples = 6\\nvalue = [6, 0]'),\n",
       " Text(309.04615384615386, 18.119999999999976, 'entropy = 0.722\\nsamples = 5\\nvalue = [4, 1]'),\n",
       " Text(321.9230769230769, 54.359999999999985, 'entropy = 0.0\\nsamples = 1\\nvalue = [0, 1]')]"
      ]
     },
     "execution_count": 66,
     "metadata": {},
     "output_type": "execute_result"
    },
    {
     "data": {
      "image/png": "[encoded data removed]",
      "text/plain": [
       "<Figure size 432x288 with 1 Axes>"
      ]
     },
     "metadata": {
      "needs_background": "light"
     },
     "output_type": "display_data"
    }
   ],
   "source": [
    "# CAP 5630 HW2\n",
    "# Josh E.\n",
    "\n",
    "import numpy as np\n",
    "import pandas as pd\n",
    "import math\n",
    "import matplotlib.pyplot as plt\n",
    "import os\n",
    "\n",
    "\n",
    "# assumes csv's are in the same directory\n",
    "train_data = pd.read_csv(os.getcwd() + \"\\\\train.csv\")\n",
    "\n",
    "# data preprocessing\n",
    "\n",
    "first_class = train_data.loc[train_data.Pclass == 1][\"Survived\"]\n",
    "#print(\"rate:\", sum(first_class)/len(first_class))\n",
    "# Survival rate of first-class: 0.6296296296296297\n",
    "\n",
    "second_class = train_data.loc[train_data.Pclass == 2][\"Survived\"]\n",
    "#print(\"rate:\", sum(second_class)/len(second_class))\n",
    "# Survival rate of second-class: 0.47282608695652173\n",
    "\n",
    "third_class = train_data.loc[train_data.Pclass == 3][\"Survived\"]\n",
    "#print(\"rate:\", sum(third_class)/len(third_class))\n",
    "# Survival rate of third-class: 0.24236252545824846\n",
    "\n",
    "women = train_data.loc[train_data.Sex == 'female'][\"Survived\"]\n",
    "#print(\"rate:\", sum(women)/len(women))\n",
    "# Survival rate of women: 0.7420382165605095\n",
    "\n",
    "men = train_data.loc[train_data.Sex == 'male'][\"Survived\"]\n",
    "#print(\"rate:\", sum(men)/len(men))\n",
    "# survival rate of men: 0.18890814558058924\n",
    "\n",
    "all_ages = train_data[[\"Age\", \"Survived\"]]\n",
    "Age_Survived = [0] * (int(all_ages[\"Age\"].max()) + 1) # indexes are age\n",
    "Age_Died = [0] * (int(all_ages[\"Age\"].max()) + 1)\n",
    "for i in range(len(all_ages[\"Age\"])):\n",
    "    \n",
    "    # remove people without age from analysis (177 missing, 714 valid)\n",
    "    passenger_age = all_ages[\"Age\"][i]\n",
    "    if math.isnan(passenger_age):\n",
    "        continue\n",
    "    passenger_age = int(passenger_age)\n",
    "    if all_ages[\"Survived\"][passenger_age] == 1:\n",
    "        Age_Survived[passenger_age] +=1\n",
    "    else:\n",
    "        Age_Died[passenger_age] +=1\n",
    "\n",
    "age_range = 10\n",
    "Age_Survival_Rate = [0] * (int(all_ages[\"Age\"].max() / age_range) + 1) # For each age, list the survival rate within their age range\n",
    "\n",
    "for i in range(len(Age_Survival_Rate)):\n",
    "    #total_people = 0;\n",
    "    total_survived = 0;\n",
    "    for j in range(age_range):\n",
    "        if i*age_range + j >= len(Age_Survived):\n",
    "            break;\n",
    "        #total_people = total_people + Age_Survived[i*age_range + j] + Age_Died[i*age_range + j]\n",
    "        total_survived = total_survived + Age_Survived[i*age_range + j]\n",
    "    Age_Survival_Rate[i] = total_survived / (sum(Age_Survived) + sum(Age_Died)) \n",
    "    \n",
    "#print(Age_Survival_Rate)\n",
    "#xdata = np.arange(start = 0, step = age_range, stop = len(Age_Survival_Rate) * age_range)\n",
    "#plt.plot(xdata, Age_Survival_Rate)\n",
    "#plt.show()\n",
    "# age shows some sign of survivorship. A passenger is more likely to survive if he/she is of the ages 15 - 30. More generally, a passenger is more likely to survive if he/she is younger.\n",
    "\n",
    "SibSp = train_data[[\"SibSp\", \"Survived\"]]\n",
    "SibSp_Survived = [0] * (int(SibSp[\"SibSp\"].max()) + 1) # indexes are number of SibSp\n",
    "SibSp_Died = [0] * (int(SibSp[\"SibSp\"].max()) + 1)\n",
    "for i in range(len(SibSp[\"SibSp\"])):\n",
    "    passenger_SibSp = SibSp[\"SibSp\"][i]\n",
    "    passenger_SibSp = int(passenger_SibSp)\n",
    "    if SibSp[\"Survived\"][passenger_SibSp] == 1:\n",
    "        SibSp_Survived[passenger_SibSp] +=1\n",
    "    else:\n",
    "        SibSp_Died[passenger_SibSp] +=1\n",
    "\n",
    "SibSp_Range = 2\n",
    "SibSp_Survival_Rate = [0] * (int(SibSp[\"SibSp\"].max() / SibSp_Range) + 1) # For each number of siblings, list the survival rate within their range\n",
    "\n",
    "\n",
    "for i in range(len(SibSp_Survival_Rate)):\n",
    "    total_survived = 0;\n",
    "    for j in range(SibSp_Range):\n",
    "        if i*SibSp_Range + j >= len(SibSp_Survived):\n",
    "            break;\n",
    "        total_survived = total_survived + SibSp_Survived[i*SibSp_Range + j]\n",
    "    SibSp_Survival_Rate[i] = total_survived / (sum(SibSp_Survived) + sum(SibSp_Died)) \n",
    "    \n",
    "#print(SibSp_Survival_Rate)\n",
    "#xdata = np.arange(start = 0, step = SibSp_Range, stop = len(SibSp_Survival_Rate) * SibSp_Range)\n",
    "#plt.plot(xdata, SibSp_Survival_Rate)\n",
    "#plt.show()\n",
    "# plot of number of SibSp vs Survival Rate indicates negative trend, but must consider that families with more sibling are rarer, which can skew data\n",
    "\n",
    "\n",
    "Parch = train_data[[\"Parch\", \"Survived\"]]\n",
    "Parch_Survived = [0] * (int(Parch[\"Parch\"].max()) + 1)\n",
    "Parch_Died = [0] * (int(Parch[\"Parch\"].max()) + 1)\n",
    "for i in range(len(Parch[\"Parch\"])):\n",
    "    passenger_Parch = Parch[\"Parch\"][i]\n",
    "    passenger_Parch = int(passenger_Parch)\n",
    "    if Parch[\"Survived\"][passenger_Parch] == 1:\n",
    "        Parch_Survived[passenger_Parch] +=1\n",
    "    else:\n",
    "        Parch_Died[passenger_Parch] +=1\n",
    "\n",
    "Parch_Survival_Rate = [0] * (int(Parch[\"Parch\"].max()) + 1)\n",
    "for i in range(len(Parch_Survival_Rate)):\n",
    "    Parch_Survival_Rate[i] = Parch_Survived[i] / (sum(Parch_Survived) + sum(Parch_Died)) \n",
    "\n",
    "#xdata = np.arange(start = 0, step = 1, stop = len(Parch_Survival_Rate))\n",
    "#plt.scatter(xdata, Parch_Survival_Rate)\n",
    "#plt.show()\n",
    "# Shows the father and daughters are most likely to survive\n",
    "\n",
    "from sklearn import tree\n",
    "from sklearn.model_selection import train_test_split\n",
    "\n",
    "drop_columns = [\"Survived\", \"PassengerId\", \"Name\", \"Ticket\", \"Cabin\", \"Embarked\", \"Fare\"]\n",
    "\n",
    "\n",
    "X_train, X_test, y_train, y_test = train_test_split(train_data.drop(drop_columns, axis=1, inplace=False), train_data[[\"Survived\"]], test_size=0.33)\n",
    "X_train[\"Age\"] = X_train[\"Age\"].fillna(X_train[\"Age\"].mean())\n",
    "X_test[\"Age\"] = X_test[\"Age\"].fillna(X_test[\"Age\"].mean())\n",
    "X_train = pd.get_dummies(X_train)\n",
    "X_test = pd.get_dummies(X_test)\n",
    "\n",
    "decision_tree = tree.DecisionTreeClassifier(max_depth=5, min_samples_split=10, criterion=\"entropy\")\n",
    "\n",
    "decision_tree.fit(X_train, y_train)\n",
    "tree.plot_tree(decision_tree)"
   ]
  },
  {
   "cell_type": "code",
   "execution_count": 75,
   "metadata": {},
   "outputs": [
    {
     "name": "stdout",
     "output_type": "stream",
     "text": [
      "Average Classification Accuracy for Decision Tree: 0.812059\n"
     ]
    }
   ],
   "source": [
    "from sklearn.model_selection import cross_val_score\n",
    "\n",
    "cv_score = cross_val_score(decision_tree, X_train, y_train, cv=5)\n",
    "print(\"Average Classification Accuracy for Decision Tree: %f\" % cv_score.mean())"
   ]
  },
  {
   "cell_type": "code",
   "execution_count": 106,
   "metadata": {},
   "outputs": [
    {
     "name": "stdout",
     "output_type": "stream",
     "text": [
      "Average Classification Accuracy for Random Forest Tree: 0.813559\n"
     ]
    }
   ],
   "source": [
    "from sklearn.ensemble import RandomForestClassifier\n",
    "\n",
    "random_forest_tree = RandomForestClassifier(max_depth=10, min_samples_split=10, criterion=\"entropy\")\n",
    "random_forest_tree.fit(X_train, y_train.values.ravel())\n",
    "\n",
    "print(\"Average Classification Accuracy for Random Forest Tree: %f\" % random_forest_tree.score(X_test, y_test))"
   ]
  },
  {
   "cell_type": "code",
   "execution_count": null,
   "metadata": {},
   "outputs": [],
   "source": []
  },
  {
   "cell_type": "code",
   "execution_count": null,
   "metadata": {},
   "outputs": [],
   "source": []
  }
 ],
 "metadata": {
  "kernelspec": {
   "display_name": "Python 3",
   "language": "python",
   "name": "python3"
  },
  "language_info": {
   "codemirror_mode": {
    "name": "ipython",
    "version": 3
   },
   "file_extension": ".py",
   "mimetype": "text/x-python",
   "name": "python",
   "nbconvert_exporter": "python",
   "pygments_lexer": "ipython3",
   "version": "3.8.5"
  }
 },
 "nbformat": 4,
 "nbformat_minor": 4
}
