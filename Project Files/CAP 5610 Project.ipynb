{
 "cells": [
  {
   "cell_type": "code",
   "execution_count": 6,
   "metadata": {},
   "outputs": [
    {
     "name": "stdout",
     "output_type": "stream",
     "text": [
      "        TransactionID  isFraud  TransactionDT  TransactionAmt ProductCD  \\\n",
      "0             2987000        0          86400           68.50         W   \n",
      "1             2987001        0          86401           29.00         W   \n",
      "2             2987002        0          86469           59.00         W   \n",
      "3             2987003        0          86499           50.00         W   \n",
      "4             2987004        0          86506           50.00         H   \n",
      "...               ...      ...            ...             ...       ...   \n",
      "590535        3577535        0       15811047           49.00         W   \n",
      "590536        3577536        0       15811049           39.50         W   \n",
      "590537        3577537        0       15811079           30.95         W   \n",
      "590538        3577538        0       15811088          117.00         W   \n",
      "590539        3577539        0       15811131          279.95         W   \n",
      "\n",
      "        card1  card2  card3       card4  card5  ... V330  V331  V332  V333  \\\n",
      "0       13926    NaN  150.0    discover  142.0  ...  NaN   NaN   NaN   NaN   \n",
      "1        2755  404.0  150.0  mastercard  102.0  ...  NaN   NaN   NaN   NaN   \n",
      "2        4663  490.0  150.0        visa  166.0  ...  NaN   NaN   NaN   NaN   \n",
      "3       18132  567.0  150.0  mastercard  117.0  ...  NaN   NaN   NaN   NaN   \n",
      "4        4497  514.0  150.0  mastercard  102.0  ...  0.0   0.0   0.0   0.0   \n",
      "...       ...    ...    ...         ...    ...  ...  ...   ...   ...   ...   \n",
      "590535   6550    NaN  150.0        visa  226.0  ...  NaN   NaN   NaN   NaN   \n",
      "590536  10444  225.0  150.0  mastercard  224.0  ...  NaN   NaN   NaN   NaN   \n",
      "590537  12037  595.0  150.0  mastercard  224.0  ...  NaN   NaN   NaN   NaN   \n",
      "590538   7826  481.0  150.0  mastercard  224.0  ...  NaN   NaN   NaN   NaN   \n",
      "590539  15066  170.0  150.0  mastercard  102.0  ...  NaN   NaN   NaN   NaN   \n",
      "\n",
      "        V334 V335 V336  V337  V338  V339  \n",
      "0        NaN  NaN  NaN   NaN   NaN   NaN  \n",
      "1        NaN  NaN  NaN   NaN   NaN   NaN  \n",
      "2        NaN  NaN  NaN   NaN   NaN   NaN  \n",
      "3        NaN  NaN  NaN   NaN   NaN   NaN  \n",
      "4        0.0  0.0  0.0   0.0   0.0   0.0  \n",
      "...      ...  ...  ...   ...   ...   ...  \n",
      "590535   NaN  NaN  NaN   NaN   NaN   NaN  \n",
      "590536   NaN  NaN  NaN   NaN   NaN   NaN  \n",
      "590537   NaN  NaN  NaN   NaN   NaN   NaN  \n",
      "590538   NaN  NaN  NaN   NaN   NaN   NaN  \n",
      "590539   NaN  NaN  NaN   NaN   NaN   NaN  \n",
      "\n",
      "[590540 rows x 394 columns]\n"
     ]
    }
   ],
   "source": [
    "# CAP 5610 Project\n",
    "# Dataset Link: https://www.kaggle.com/c/ieee-fraud-detection\n",
    "\n",
    "import numpy as np\n",
    "import pandas as pd\n",
    "import math\n",
    "import matplotlib.pyplot as plt\n",
    "import os\n",
    "\n",
    "train_identity = pd.read_csv(os.getcwd() + \"\\\\train_identity.csv\")\n",
    "train_transaction = pd.read_csv(os.getcwd() + \"\\\\train_transaction.csv\")\n",
    "# print(train_identity)\n",
    "# print(train_transaction)"
   ]
  },
  {
   "cell_type": "code",
   "execution_count": null,
   "metadata": {},
   "outputs": [],
   "source": []
  }
 ],
 "metadata": {
  "kernelspec": {
   "display_name": "Python 3",
   "language": "python",
   "name": "python3"
  },
  "language_info": {
   "codemirror_mode": {
    "name": "ipython",
    "version": 3
   },
   "file_extension": ".py",
   "mimetype": "text/x-python",
   "name": "python",
   "nbconvert_exporter": "python",
   "pygments_lexer": "ipython3",
   "version": "3.8.5"
  }
 },
 "nbformat": 4,
 "nbformat_minor": 4
}
